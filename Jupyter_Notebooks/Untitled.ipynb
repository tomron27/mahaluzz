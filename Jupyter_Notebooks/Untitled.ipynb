{
 "cells": [
  {
   "cell_type": "code",
   "execution_count": 1,
   "metadata": {},
   "outputs": [
    {
     "name": "stdout",
     "output_type": "stream",
     "text": [
      "[-1.00049723e-03  2.78867474e-02  1.72324009e-03  3.67299258e-05\n",
      " -1.34110728e-03  1.49849244e-01 -6.94547812e-04  4.95171402e-04\n",
      "  2.46109612e-01  5.76052476e-01 -2.31429313e-03  2.33210221e-04\n",
      " -4.49099455e-04  2.25180894e-01 -9.46443449e-04 -4.96566507e-04\n",
      " -8.01071048e-04 -8.34661500e-04  7.72478759e-04 -2.09625000e-03]\n",
      "[2.41161342e+00 4.92193692e-19 2.91982608e+00 1.81300065e+00\n",
      " 1.29433888e+01 0.00000000e+00 6.70948368e-01 3.43738150e+00\n",
      " 0.00000000e+00 0.00000000e+00 8.77021713e+00 1.93819216e-02\n",
      " 6.99394978e+00 0.00000000e+00 4.57405947e+00 3.12997531e+00\n",
      " 1.96784540e+00 1.00217575e+01 3.14871920e+00 8.35476682e+00]\n"
     ]
    }
   ],
   "source": [
    "import cvxpy as cp\n",
    "import numpy as np\n",
    "\n",
    "# Problem data.\n",
    "m = 30\n",
    "n = 20\n",
    "np.random.seed(1)\n",
    "A = np.random.randn(m, n)\n",
    "b = np.random.randn(m)\n",
    "\n",
    "# Construct the problem.\n",
    "x = cp.Variable(n)\n",
    "objective = cp.Minimize(cp.sum_squares(A*x - b))\n",
    "constraints = [0 <= x, x <= 1]\n",
    "prob = cp.Problem(objective, constraints)\n",
    "\n",
    "# The optimal objective value is returned by `prob.solve()`.\n",
    "result = prob.solve()\n",
    "# The optimal value for x is stored in `x.value`.\n",
    "print(x.value)\n",
    "# The optimal Lagrange multiplier for a constraint is stored in\n",
    "# `constraint.dual_value`.\n",
    "print(constraints[0].dual_value)"
   ]
  },
  {
   "cell_type": "code",
   "execution_count": 10,
   "metadata": {},
   "outputs": [
    {
     "data": {
      "text/plain": [
       "numpy.ndarray"
      ]
     },
     "execution_count": 10,
     "metadata": {},
     "output_type": "execute_result"
    }
   ],
   "source": []
  },
  {
   "cell_type": "code",
   "execution_count": null,
   "metadata": {},
   "outputs": [],
   "source": []
  }
 ],
 "metadata": {
  "kernelspec": {
   "display_name": "Python 3",
   "language": "python",
   "name": "python3"
  },
  "language_info": {
   "codemirror_mode": {
    "name": "ipython",
    "version": 3
   },
   "file_extension": ".py",
   "mimetype": "text/x-python",
   "name": "python",
   "nbconvert_exporter": "python",
   "pygments_lexer": "ipython3",
   "version": "3.7.0"
  }
 },
 "nbformat": 4,
 "nbformat_minor": 2
}
